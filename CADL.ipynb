{
  "nbformat": 4,
  "nbformat_minor": 0,
  "metadata": {
    "colab": {
      "name": "CADL.ipynb",
      "provenance": [],
      "collapsed_sections": [],
      "include_colab_link": true
    },
    "kernelspec": {
      "name": "python3",
      "display_name": "Python 3"
    },
    "accelerator": "GPU"
  },
  "cells": [
    {
      "cell_type": "markdown",
      "metadata": {
        "id": "view-in-github",
        "colab_type": "text"
      },
      "source": [
        "<a href=\"https://colab.research.google.com/github/EdvardFoss/02456-deep-learning-with-PyTorch/blob/master/CADL.ipynb\" target=\"_parent\"><img src=\"https://colab.research.google.com/assets/colab-badge.svg\" alt=\"Open In Colab\"/></a>"
      ]
    },
    {
      "cell_type": "markdown",
      "metadata": {
        "id": "Jqe_xggulODz",
        "colab_type": "text"
      },
      "source": [
        "#Collision Risk Forecasting with a Stacked LSTM Artificial Recurrent Neural Network Trained on Real-World Satellite Conjunction Data Messages\n",
        "###02456 Deep Learning Project (Fall 2019)\n"
      ]
    },
    {
      "cell_type": "markdown",
      "metadata": {
        "id": "_QbM_9pypqgh",
        "colab_type": "text"
      },
      "source": [
        "By Edvard Foss (s191652)"
      ]
    },
    {
      "cell_type": "markdown",
      "metadata": {
        "id": "T2342USypG6G",
        "colab_type": "text"
      },
      "source": [
        "##Acronyms\n",
        "\n",
        "*   CDM: Conjunction Data Message\n",
        "*   ESA: European Space Agency\n",
        "*   LSTM: Long Short-Team Memory\n",
        "*   RNN: Recurrent Neural Network\n",
        "\n",
        "\n"
      ]
    },
    {
      "cell_type": "markdown",
      "metadata": {
        "id": "uY5YazpPlXGW",
        "colab_type": "text"
      },
      "source": [
        "##Motivation"
      ]
    },
    {
      "cell_type": "markdown",
      "metadata": {
        "id": "jNSrBsQSlcdR",
        "colab_type": "text"
      },
      "source": [
        "The Space Debris Crisis caused by the Kessler Syndrom is getting worse exponentially. As a space entusiast I would like to take part in developing new ways of mitigating the effect and avoid furter buildup of debris in space. Avoiding orbital collisions would siginificatly improve the situation."
      ]
    },
    {
      "cell_type": "markdown",
      "metadata": {
        "id": "eWWp9D5RmF0F",
        "colab_type": "text"
      },
      "source": [
        "##Background\n",
        "\n",
        "Objects in orbit larger than 10cm are tracked by the Space Surveillance Network and their position is released in the form of a globally shared catalogue.\n",
        "\n",
        "In the context of this activity, the orbits of these satellites are propagated and when a close approach with any object in the catalogue is detected a Conjunction Data Message (CDM) is assembled and released. Each CDM contains multiple attributes about the approach.\n",
        "\n",
        "For this project, due to Space Debris Office requirements, we are going to create a RNN that will, by inputting the the CDMs recorded up to 2 days prior to the closest approach, predict the final risk of collision."
      ]
    },
    {
      "cell_type": "markdown",
      "metadata": {
        "id": "MUMiEgUjli76",
        "colab_type": "text"
      },
      "source": [
        "##Milestones\n",
        "\n",
        "\n",
        "1.   Pre-process data and make the data into a supervised learning problem\n",
        "2.   Implement the LSTM\n",
        "3.   Train and Test the network\n",
        "4.   Optimize the network\n",
        "\n",
        "if time: SigOpt\n",
        "\n",
        "\n"
      ]
    },
    {
      "cell_type": "markdown",
      "metadata": {
        "id": "4NkXsLlJfXvV",
        "colab_type": "text"
      },
      "source": [
        "##Pre-Processing"
      ]
    },
    {
      "cell_type": "markdown",
      "metadata": {
        "id": "tauyKXZQfvp4",
        "colab_type": "text"
      },
      "source": [
        "###Mount Drive"
      ]
    },
    {
      "cell_type": "code",
      "metadata": {
        "id": "OtAlRgcMoCpy",
        "colab_type": "code",
        "outputId": "d441734a-cd59-43f6-8ce9-cd9183d8a30d",
        "colab": {
          "base_uri": "https://localhost:8080/",
          "height": 123
        }
      },
      "source": [
        "from google.colab import drive\n",
        "drive.mount('/content/drive')"
      ],
      "execution_count": 1,
      "outputs": [
        {
          "output_type": "stream",
          "text": [
            "Go to this URL in a browser: https://accounts.google.com/o/oauth2/auth?client_id=947318989803-6bn6qk8qdgf4n4g3pfee6491hc0brc4i.apps.googleusercontent.com&redirect_uri=urn%3aietf%3awg%3aoauth%3a2.0%3aoob&response_type=code&scope=email%20https%3a%2f%2fwww.googleapis.com%2fauth%2fdocs.test%20https%3a%2f%2fwww.googleapis.com%2fauth%2fdrive%20https%3a%2f%2fwww.googleapis.com%2fauth%2fdrive.photos.readonly%20https%3a%2f%2fwww.googleapis.com%2fauth%2fpeopleapi.readonly\n",
            "\n",
            "Enter your authorization code:\n",
            "··········\n",
            "Mounted at /content/drive\n"
          ],
          "name": "stdout"
        }
      ]
    },
    {
      "cell_type": "markdown",
      "metadata": {
        "id": "X8C2u4ARqzb6",
        "colab_type": "text"
      },
      "source": [
        "For this project we will be a regression problem where we would like to predict the `max_risk_estimate` for the last possible CDM from all data up until `time_to_tca`=2. We will therefor remove all the data we are not going to use. "
      ]
    },
    {
      "cell_type": "markdown",
      "metadata": {
        "id": "NqV4QeYpf1a9",
        "colab_type": "text"
      },
      "source": [
        "##Load Data"
      ]
    },
    {
      "cell_type": "code",
      "metadata": {
        "id": "_vzuXIkln6Fr",
        "colab_type": "code",
        "outputId": "76d1ff78-194a-4446-cfa7-ae66931d09f2",
        "colab": {
          "base_uri": "https://localhost:8080/",
          "height": 34
        }
      },
      "source": [
        "# load\n",
        "from pandas import read_csv, Grouper\n",
        "from matplotlib import pyplot\n",
        "import numpy as np\n",
        "# load dataset\n",
        "data = read_csv('/content/drive/My Drive/DL/train_data.csv', usecols=[0,1,4]) #max 4\n",
        "data.shape"
      ],
      "execution_count": 2,
      "outputs": [
        {
          "output_type": "execute_result",
          "data": {
            "text/plain": [
              "(162634, 3)"
            ]
          },
          "metadata": {
            "tags": []
          },
          "execution_count": 2
        }
      ]
    },
    {
      "cell_type": "markdown",
      "metadata": {
        "id": "lXkKIOAmf5BV",
        "colab_type": "text"
      },
      "source": [
        "##Split into time-series sequences & prepare for RNN"
      ]
    },
    {
      "cell_type": "markdown",
      "metadata": {
        "id": "kWx4V9bTx1Z_",
        "colab_type": "text"
      },
      "source": [
        "Now we will splitt into the sequences. By group and only use samples that include data for more than 2 days prior to the TCA."
      ]
    },
    {
      "cell_type": "code",
      "metadata": {
        "id": "waPx3h1nqlad",
        "colab_type": "code",
        "colab": {}
      },
      "source": [
        "group_sequences=data.groupby(['event_id'])\n",
        "\n",
        "#delete all events that have less than 2 days of data\n",
        "events=group_sequences.first()\n",
        "events2=group_sequences.last()\n",
        "\n",
        "threshold=int(2)#gives series of T/F if the sample/group starts its TCA LESS THAN 2 days before\n",
        "events_tca_correct= events['time_to_tca'].apply(lambda x: x < threshold)\n",
        "events2_tca_correct=events2['time_to_tca'].apply(lambda y: y > threshold)\n",
        "\n",
        "\n",
        "#Groups we DO NOT WANT to keep\n",
        "index_for_data_groups=list(events_tca_correct[events_tca_correct].index)\n",
        "index_for_data_groups2=list(events2_tca_correct[events2_tca_correct].index)\n",
        "indi=index_for_data_groups+index_for_data_groups2\n",
        "\n",
        "#Remove all bad data\n",
        "indi=np.sort(indi)\n",
        "\n",
        "index_del=[]\n",
        "#Get all indexes\n",
        "for t in indi:\n",
        "    index=list(group_sequences.get_group(t).index)\n",
        "    index_del=index_del+index\n",
        "\n",
        "data_new=data.drop(index_del)\n",
        "\n",
        "#split into samples by event_id\n",
        "\n",
        "samples=[]\n",
        "#get index to what we want\n",
        "group_seq=data_new.groupby(['event_id'])\n",
        "group_samples=list(group_seq.groups.keys())\n",
        "\n",
        "for i in group_samples:\n",
        "    df_sample=group_seq.get_group(i)\n",
        "    df_risk = df_sample['max_risk_estimate']\n",
        "    sample= df_risk.values\n",
        "    if len(sample)>6:\n",
        "      samples.append(sample)\n",
        "#8892 samples\n",
        "samples=np.asarray(samples)"
      ],
      "execution_count": 0,
      "outputs": []
    },
    {
      "cell_type": "code",
      "metadata": {
        "id": "eiZchab_aDrH",
        "colab_type": "code",
        "outputId": "d787d652-000a-41be-ce98-388ff85109f9",
        "colab": {
          "base_uri": "https://localhost:8080/",
          "height": 34
        }
      },
      "source": [
        "print('Number of samples for training: ' +str(len(samples)))"
      ],
      "execution_count": 4,
      "outputs": [
        {
          "output_type": "stream",
          "text": [
            "Number of samples for training: 7946\n"
          ],
          "name": "stdout"
        }
      ]
    },
    {
      "cell_type": "code",
      "metadata": {
        "id": "6QSVR4HKhkjb",
        "colab_type": "code",
        "outputId": "12dbc15e-9f16-46b4-fb3b-dfb4d1ac0765",
        "colab": {
          "base_uri": "https://localhost:8080/",
          "height": 34
        }
      },
      "source": [
        "len(samples[40])"
      ],
      "execution_count": 5,
      "outputs": [
        {
          "output_type": "execute_result",
          "data": {
            "text/plain": [
              "21"
            ]
          },
          "metadata": {
            "tags": []
          },
          "execution_count": 5
        }
      ]
    },
    {
      "cell_type": "markdown",
      "metadata": {
        "id": "ew1HUCNbUfPZ",
        "colab_type": "text"
      },
      "source": [
        "## Partitioning the dataset"
      ]
    },
    {
      "cell_type": "markdown",
      "metadata": {
        "id": "yW2ZpdyzUYxu",
        "colab_type": "text"
      },
      "source": [
        "To build our dataset, we need to create inputs and targets for each sequences and partition sentences it into training, validation and test sets. 80%, 10% and 10% is a common distribution. \n",
        "\n",
        "We can use PyTorch's `Dataset` class to build a simple dataset where we can easily retrieve (inputs, targets) pairs for each of our sequences."
      ]
    },
    {
      "cell_type": "code",
      "metadata": {
        "id": "MaFrqe_7UwHC",
        "colab_type": "code",
        "outputId": "3709f475-1f9d-4baf-daf5-98fbf4d4db2f",
        "colab": {
          "base_uri": "https://localhost:8080/",
          "height": 225
        }
      },
      "source": [
        "from torch.utils import data\n",
        "\n",
        "class Dataset(data.Dataset):\n",
        "    def __init__(self, inputs, targets):\n",
        "        self.inputs = inputs\n",
        "        self.targets = targets\n",
        "\n",
        "    def __len__(self):\n",
        "        # Return the size of the dataset\n",
        "        return len(self.targets)\n",
        "\n",
        "    def __getitem__(self, index):\n",
        "        # Retrieve inputs and targets at the given index\n",
        "        X = self.inputs[index]\n",
        "        y = self.targets[index]\n",
        "\n",
        "        return X, y\n",
        "\n",
        "    \n",
        "def create_datasets(samples, dataset_class, p_train=0.85, p_val=0.1, p_test=0.05):\n",
        "    # Define partition sizes\n",
        "    num_train = int(len(samples)*p_train)\n",
        "    num_val = int(len(samples)*p_val)\n",
        "    num_test = int(len(samples)*p_test)\n",
        "\n",
        "    # Split samples into partitions\n",
        "    samples_train = samples[:num_train]\n",
        "    samples_val = samples[num_train:num_train+num_val]\n",
        "    samples_test = samples[-num_test:]\n",
        "\n",
        "    def get_inputs_targets_from_samples(samples): \n",
        "        #criterion = nn.MSELoss()\n",
        "        # Define empty lists\n",
        "        inputs, targets, no_pre, loss = [], [], [],[]\n",
        "        \n",
        "        #inputs are what is left after that the 6 last values of the sample \n",
        "        #has been extracted to be the output\n",
        "        for i in range(len(samples)):\n",
        "            len_sample=len(samples[i])\n",
        "            inputs.append(samples[i][:(len_sample-6)])\n",
        "            no_pre.append(samples[i][-6:-5])\n",
        "            targets.append(samples[i][-1:])\n",
        "            #loss.append(criterion(torch.Tensor(no_pre),torch.Tensor(targets)))\n",
        "        print(sum(loss)/len(samples))\n",
        "        print(targets[0])\n",
        "        print(no_pre[0])\n",
        "        return inputs, targets\n",
        "\n",
        "    # Get inputs and targets for each partition\n",
        "    inputs_train, targets_train = get_inputs_targets_from_samples(samples_train)\n",
        "    inputs_val, targets_val = get_inputs_targets_from_samples(samples_val)\n",
        "    inputs_test, targets_test = get_inputs_targets_from_samples(samples_test)\n",
        "\n",
        "    # Create datasets\n",
        "    training_set = dataset_class(inputs_train, targets_train)\n",
        "    validation_set = dataset_class(inputs_val, targets_val)\n",
        "    test_set = dataset_class(inputs_test, targets_test)\n",
        "\n",
        "    return training_set, validation_set, test_set\n",
        "    \n",
        "\n",
        "training_set, validation_set, test_set = create_datasets(samples, Dataset)\n",
        "\n",
        "print(f'We have {len(training_set)} samples in the training set.')\n",
        "print(f'We have {len(validation_set)} samples in the validation set.')\n",
        "print(f'We have {len(test_set)} samples in the test set.')\n",
        "\n"
      ],
      "execution_count": 6,
      "outputs": [
        {
          "output_type": "stream",
          "text": [
            "0.0\n",
            "[-7.44928258]\n",
            "[-6.26808906]\n",
            "0.0\n",
            "[-7.60853559]\n",
            "[-7.26921772]\n",
            "0.0\n",
            "[-7.76929569]\n",
            "[-5.87614836]\n",
            "We have 6754 samples in the training set.\n",
            "We have 794 samples in the validation set.\n",
            "We have 397 samples in the test set.\n"
          ],
          "name": "stdout"
        }
      ]
    },
    {
      "cell_type": "markdown",
      "metadata": {
        "id": "ReDl0Oljr4rC",
        "colab_type": "text"
      },
      "source": [
        "###Zero-padding\n",
        "We need to find the maximum input length such that we can zero-pad the inputs to the correct length."
      ]
    },
    {
      "cell_type": "code",
      "metadata": {
        "id": "v_msjA9e5bPN",
        "colab_type": "code",
        "outputId": "5bf60d93-3ef2-4596-f401-eec46323e1d2",
        "colab": {
          "base_uri": "https://localhost:8080/",
          "height": 34
        }
      },
      "source": [
        "length=1\n",
        "\n",
        "for i in range(len(training_set)):\n",
        "  new_length=len(training_set[i][0])\n",
        "  if new_length>length:\n",
        "    length=new_length\n",
        "  else:\n",
        "    length=length\n",
        "print('Length of longest input sequence: ' + str(length))\n",
        "  "
      ],
      "execution_count": 7,
      "outputs": [
        {
          "output_type": "stream",
          "text": [
            "Length of longest input sequence: 17\n"
          ],
          "name": "stdout"
        }
      ]
    },
    {
      "cell_type": "markdown",
      "metadata": {
        "id": "8OQWBFJYslp1",
        "colab_type": "text"
      },
      "source": [
        "Zero-padding trail. Example of a zero-padded input sequence."
      ]
    },
    {
      "cell_type": "code",
      "metadata": {
        "id": "KosHgqV99H0w",
        "colab_type": "code",
        "outputId": "a5d43e56-f1a7-466d-b1d3-8494c3168bc0",
        "colab": {
          "base_uri": "https://localhost:8080/",
          "height": 69
        }
      },
      "source": [
        "import torch.nn.functional as F\n",
        "import torch\n",
        "seq=training_set[0][0]\n",
        "max_length=17\n",
        "seq = torch.Tensor(seq)\n",
        "length=len(seq)\n",
        "dif=max_length-length\n",
        "seq=F.pad(seq, pad=(0,dif),mode='constant', value=0)\n",
        "\n",
        "print(seq)\n"
      ],
      "execution_count": 8,
      "outputs": [
        {
          "output_type": "stream",
          "text": [
            "tensor([-6.6017, -6.6035, -6.2180, -6.2711, -6.2774, -6.2783, -6.2832, -6.2836,\n",
            "        -6.5246, -6.2705, -6.2716, -6.2631, -6.2634, -6.2662,  0.0000,  0.0000,\n",
            "         0.0000])\n"
          ],
          "name": "stdout"
        }
      ]
    },
    {
      "cell_type": "markdown",
      "metadata": {
        "id": "vAUa4iLovQGG",
        "colab_type": "text"
      },
      "source": [
        "Test: List of all sample lengths. Must be done with all inputs. "
      ]
    },
    {
      "cell_type": "markdown",
      "metadata": {
        "id": "MfTIM4G6mp9c",
        "colab_type": "text"
      },
      "source": [
        "#Introduction to LSTM\n",
        "\n",
        "A vanilla RNN suffers from [the vanishing gradients problem](http://neuralnetworksanddeeplearning.com/chap5.html#the_vanishing_gradient_problem) which gives challenges in saving memory over longer sequences. To combat these issues the gated hidden units were created. The two most prominent gated hidden units are the Long Short-Term Memory (LSTM) cell and the Gated Recurrent Unit (GRU), both of which have shown increased performance in saving and reusing memory in later timesteps. \n",
        "\n",
        "In addition, LSTM has shown good results for sequences of unequal timesteps.\n",
        "\n",
        "Below is a figure of a LSTM cell:"
      ]
    },
    {
      "cell_type": "markdown",
      "metadata": {
        "id": "NwNkd1j_mwlt",
        "colab_type": "text"
      },
      "source": [
        "![lstm](https://i.imgur.com/3VkmUCe.png)\n",
        "Source: https://arxiv.org/abs/1412.7828"
      ]
    },
    {
      "cell_type": "markdown",
      "metadata": {
        "id": "wy4P3zbbm02K",
        "colab_type": "text"
      },
      "source": [
        "\n",
        "The LSTM cell contains three gates, input, forget, output gates and a memory cell.\n",
        "The output of the LSTM unit is computed with the following functions, where $\\sigma = \\mathrm{softmax}$.\n",
        "We have input gate $i$, forget gate $f$, and output gate $o$ defines as\n",
        "\n",
        "- $i = \\sigma ( W^i [h_{t-1}, x_t])$\n",
        "\n",
        "- $f = \\sigma ( W^f [h_{t-1},x_t])$\n",
        "\n",
        "- $o = \\sigma ( W^o [h_{t-1},x_t])$\n",
        "\n",
        "where $W^i, W^f, W^o$ are weight matrices applied to a concatenated $h_{t-1}$ (hidden state vector) and $x_t$ (input vector)  for each respective gate.\n",
        "\n",
        "$h_{t-1}$, from the previous time step along with the current input $x_t$ are used to compute the a candidate $g$\n",
        "\n",
        "- $g = \\mathrm{tanh}( W^g [h_{t-1}, x_t])$\n",
        "\n",
        "The value of the cell's memory, $c_t$, is updated as\n",
        "\n",
        "- $c_t = c_{t-1} \\circ f + g \\circ i$\n",
        "\n",
        "where $c_{t-1}$ is the previous memory, and $\\circ$ refers to element-wise multiplication.\n",
        "\n",
        "The output, $h_t$, is computed as\n",
        "\n",
        "- $h_t = \\mathrm{tanh}(c_t) \\circ o$\n",
        "\n",
        "and it is used for both the timestep's output and the next timestep, whereas $c_t$ is exclusively sent to the next timestep.\n",
        "This makes $c_t$ a memory feature, and is not used directly to compute the output of the timestep."
      ]
    },
    {
      "cell_type": "markdown",
      "metadata": {
        "id": "3OQtngYzXBwv",
        "colab_type": "text"
      },
      "source": [
        "#Implementing LSTM\n",
        "\n",
        "The collision is a deterministic event and as such its probability after the TCA is either 1 or 0. The risk reported in the CDMs, and predicted here, is some kind of measure of the confidence we have on a collision happening. The number is used to decide on whether to perform an avoidance manouvre or not (note that such a decision may be wrong after all as the collision would never have happened anyway,there is basically no way to know). In this project we wish to create a model allowing to make that decision in advance, i.e. based only on the CDMs with TCA > 2 days. As a ground truth to know whether the Space Debris Office at ESA would decide to perform the manouvre or not, they use the take the risk of the latest available CDMs.\n",
        "\n",
        "A lot of human factors and non-mathematical processes enter in this a set-up. This problem is therefor very suitable for a neural network. As the samples are sequences a RNN should be used. However,the vanilla RNN suffers from the vanishing gradients problem as stated earlier. Here we will implement our RNN model as a LSTM.\n",
        "\n",
        "We are going to mask the inputs using the pad pack utility. The max_length will be put to 17 as that is the longest."
      ]
    },
    {
      "cell_type": "code",
      "metadata": {
        "id": "3RftsliGQgXU",
        "colab_type": "code",
        "colab": {}
      },
      "source": [
        "import torch\n",
        "import torch.nn as nn\n",
        "import torch.nn.functional as F\n",
        "import torch.optim as optim\n",
        "\n",
        "\n",
        "class Net(nn.Module):\n",
        "    def __init__(self, seq_len, input_dim, hidden_dim, layer_dim, output_dim):\n",
        "        super(Net, self).__init__()\n",
        "\n",
        "        # Hidden dimensions\n",
        "        self.hidden_dim = hidden_dim\n",
        "\n",
        "        # Sequence length\n",
        "        self.seq_len = seq_len\n",
        "\n",
        "        # Number of hidden layers\n",
        "        self.layer_dim = layer_dim\n",
        "\n",
        "        # Building your LSTM\n",
        "        # batch_first=True causes input/output tensors to be of shape\n",
        "        # (batch_dim, seq_dim, feature_dim)\n",
        "        self.lstm = nn.RNN(input_dim, hidden_dim, layer_dim, batch_first=True, dropout= 0.2)\n",
        "        #dropout had a worsening effect\n",
        "\n",
        "        # Readout layer\n",
        "        self.fc = nn.Linear(hidden_dim, output_dim)\n",
        "        \n",
        "        # Initiate hidden layer\n",
        "        self.hidden = self.init_hidden()\n",
        "\n",
        "    def init_hidden(self):\n",
        "        # Before we've done anything, we dont have any hidden state.\n",
        "        # Refer to the Pytorch documentation to see exactly\n",
        "        # why they have this dimensionality.\n",
        "        # The axes semantics are (num_layers, minibatch_size, hidden_dim)\n",
        "        return (torch.zeros(1, 1, self.hidden_dim),\n",
        "                torch.zeros(1, 1, self.hidden_dim))\n",
        "\n",
        "        \n",
        "    def forward(self, x, length_seq):\n",
        "      #  print(x.size())\n",
        "        \n",
        "       pack = torch.nn.utils.rnn.pack_padded_sequence(x, lengths=(torch.LongTensor([length_seq]).cpu().numpy()), batch_first=True)\n",
        "\n",
        "       #print('Before LSTM')\n",
        "       #print(pack)\n",
        "\n",
        "        # 17 time steps\n",
        "        # We need to detach as we are doing truncated backpropagation through time (BPTT)\n",
        "        # If we don't, we'll backprop all the way to the start even after going through another batch\n",
        "       packed, (hn, cn) = self.lstm(x)\n",
        "\n",
        "      # print('After LSTM')\n",
        "       #print(packed)\n",
        "       #print(packed.size())\n",
        "\n",
        "       #out=torch.nn.utils.rnn.pad_packed_sequence(packed, total_length=17, batch_first=True)\n",
        "       #print(out[0])\n",
        "       # print('After unpack')\n",
        "       # print(out)\n",
        "       #out=out.reshape(1,17,1)        \n",
        "        # Index hidden state of last time step\n",
        "       out = self.fc(packed[:, -1, :]) \n",
        "       return out\n"
      ],
      "execution_count": 0,
      "outputs": []
    },
    {
      "cell_type": "code",
      "metadata": {
        "id": "ZKztxm_rfPGS",
        "colab_type": "code",
        "outputId": "d7f6029d-068b-4391-db1a-7a0a16e6d14e",
        "colab": {
          "base_uri": "https://localhost:8080/",
          "height": 141
        }
      },
      "source": [
        "pip install adabound"
      ],
      "execution_count": 10,
      "outputs": [
        {
          "output_type": "stream",
          "text": [
            "Collecting adabound\n",
            "  Downloading https://files.pythonhosted.org/packages/cd/44/0c2c414effb3d9750d780b230dbb67ea48ddc5d9a6d7a9b7e6fcc6bdcff9/adabound-0.0.5-py3-none-any.whl\n",
            "Requirement already satisfied: torch>=0.4.0 in /usr/local/lib/python3.6/dist-packages (from adabound) (1.3.1)\n",
            "Requirement already satisfied: numpy in /usr/local/lib/python3.6/dist-packages (from torch>=0.4.0->adabound) (1.17.4)\n",
            "Installing collected packages: adabound\n",
            "Successfully installed adabound-0.0.5\n"
          ],
          "name": "stdout"
        }
      ]
    },
    {
      "cell_type": "markdown",
      "metadata": {
        "id": "Oj3SDPMyYGLf",
        "colab_type": "text"
      },
      "source": [
        "##Training Loop"
      ]
    },
    {
      "cell_type": "code",
      "metadata": {
        "colab_type": "code",
        "outputId": "f88e217f-b6e5-4f3d-93bb-75c26f4d9f17",
        "id": "EZUCFX24bcpq",
        "colab": {
          "base_uri": "https://localhost:8080/",
          "height": 193
        }
      },
      "source": [
        "import matplotlib.pyplot as plt\n",
        "import adabound\n",
        "\n",
        "# Model paramaters\n",
        "\n",
        "output_dim = 1\n",
        "input_dim =1\n",
        "seq_len=17\n",
        "max_length=17\n",
        "\n",
        "# Hyper-parameters\n",
        "num_epochs = 35\n",
        "hidden_dim = 100 # 100. worse with 150\n",
        "layer_dim = 2\n",
        "l_r=0.001 #ADAM: Above 0.001, increasing the learning rate increased the time to train and also increased the variance in training time (as compared to a linear function of model size).\n",
        "\n",
        "# Create network\n",
        "net = Net(seq_len, input_dim, hidden_dim, layer_dim, output_dim)\n",
        "\n",
        "\n",
        "# Define a loss function and optimizer for this problem\n",
        "criterion = nn.MSELoss() #https://medium.com/data-science-group-iitr/loss-functions-and-optimization-algorithms-demystified-bb92daff331c 1)MSE\n",
        "optimizer = adabound.AdaBound(net.parameters(), lr=0.0001, final_lr=0.001) #1) ADAM torch.optim.Adam(net.parameters(), lr=l_r)    # 2) \n",
        "\n",
        "# Track loss\n",
        "training_loss, validation_loss = [], []\n",
        "\n",
        "# Track accuracy\n",
        "accuracy = []\n",
        "\n",
        "# Track correct class\n",
        "correct=int(0)\n",
        "\n",
        "# For each epoch\n",
        "for i in range(num_epochs):\n",
        "    \n",
        "    # Track loss\n",
        "    epoch_training_loss = 0\n",
        "    epoch_validation_loss = 0\n",
        "    \n",
        "    net.eval()\n",
        "        \n",
        "    # For each sample in validation set\n",
        "    for inputs, targets in validation_set:\n",
        "                \n",
        "        # Convert input to tensor & zero-pad\n",
        "        inputs = torch.FloatTensor(inputs)\n",
        "        length=len(inputs)\n",
        "        dif=max_length-length\n",
        "        inputs=F.pad(inputs, pad=(0,dif),mode='constant', value=0)\n",
        "        inputs=inputs.reshape(1,17,1)\n",
        "        \n",
        "        # Convert target to tensor\n",
        "        targets = torch.FloatTensor(targets)       \n",
        "        \n",
        "        # Forward pass\n",
        "        outputs = net.forward(inputs, length)\n",
        "\n",
        "        # Compute loss\n",
        "        loss = criterion(outputs, targets)\n",
        "\n",
        "        #Compute accuracy\n",
        "        accuracy.append(abs(outputs.item()-targets.item())/abs(targets.item()))\n",
        "\n",
        "              \n",
        "        # Update loss\n",
        "        epoch_validation_loss += loss.detach().numpy()\n",
        "    \n",
        "    net.train()\n",
        "    \n",
        "    # For each sentence in training set\n",
        "    for inputs, targets in training_set:\n",
        "             \n",
        "         # Convert input to tensor & zero-pad\n",
        "        inputs = torch.FloatTensor(inputs)\n",
        "        length=len(inputs)\n",
        "        dif=max_length-length\n",
        "        inputs=F.pad(inputs, pad=(0,dif),mode='constant', value=0)\n",
        "        inputs=inputs.reshape(1,17,1)\n",
        "\n",
        "        # Convert target to tensor\n",
        "        targets = torch.FloatTensor(targets)\n",
        "        \n",
        "        # Forward pass\n",
        "        outputs = net(inputs, length)\n",
        "\n",
        "        # Compute loss\n",
        "        loss = criterion(outputs, targets)\n",
        "        \n",
        "        # Backward pass\n",
        "        optimizer.zero_grad()\n",
        "        loss.backward()\n",
        "        optimizer.step()\n",
        "        \n",
        "        # Update loss\n",
        "        epoch_training_loss += loss.detach().numpy()\n",
        "        \n",
        "    # Save loss for plot\n",
        "    training_loss.append(epoch_training_loss/len(training_set))\n",
        "    validation_loss.append(epoch_validation_loss/len(validation_set))\n",
        "\n",
        "    # Print loss every 5 epochs\n",
        "    if i % 5 == 0:\n",
        "        print(f'Epoch {i}, training loss: {training_loss[-1]}, validation loss: {validation_loss[-1]}')\n",
        "\n",
        "        \n",
        "# Get first sample in test set\n",
        "inputs, targets = test_set[0]\n",
        "\n",
        "# Convert input to tensor\n",
        "inputs = torch.FloatTensor(inputs)\n",
        "length=len(inputs)\n",
        "dif=max_length-length\n",
        "inputs=F.pad(inputs, pad=(0,dif),mode='constant', value=0)\n",
        "inputs=inputs.reshape(1,17,1)\n",
        "# Convert target to tensor\n",
        "targets = torch.Tensor(targets)\n",
        "\n",
        "# Forward pass\n",
        "outputs = net.forward(inputs, length)\n",
        "\n",
        "print('\\nInput sequence:')\n",
        "print(inputs)\n",
        "\n",
        "print('\\nTarget sequence:')\n",
        "print(targets)\n",
        "\n",
        "print('\\nPredicted sequence:')\n",
        "print(outputs)\n",
        "\n",
        "print('\\nAccuracy:')\n",
        "len_acc=len(accuracy)\n",
        "sum_acc=sum(accuracy)\n",
        "acc_tot=int((1-sum_acc/len_acc)*100)\n",
        "print(str(acc_tot) + ' %')\n"
      ],
      "execution_count": 11,
      "outputs": [
        {
          "output_type": "stream",
          "text": [
            "/usr/local/lib/python3.6/dist-packages/torch/nn/modules/loss.py:431: UserWarning: Using a target size (torch.Size([1])) that is different to the input size (torch.Size([1, 1])). This will likely lead to incorrect results due to broadcasting. Please ensure they have the same size.\n",
            "  return F.mse_loss(input, target, reduction=self.reduction)\n"
          ],
          "name": "stderr"
        },
        {
          "output_type": "stream",
          "text": [
            "Epoch 0, training loss: 1.617889594082838, validation loss: 42.885088747034146\n",
            "Epoch 5, training loss: 0.5113318458787749, validation loss: 0.46937431727596396\n",
            "Epoch 10, training loss: 0.41452707433773883, validation loss: 0.381000952932766\n",
            "Epoch 15, training loss: 0.39602334552890034, validation loss: 0.37046038571133316\n",
            "Epoch 20, training loss: 0.3822249598883066, validation loss: 0.3659907122057707\n",
            "Epoch 25, training loss: 0.3772601450425317, validation loss: 0.36632027585543536\n",
            "Epoch 30, training loss: 0.3717355035316774, validation loss: 0.36394343936973583\n"
          ],
          "name": "stdout"
        }
      ]
    },
    {
      "cell_type": "markdown",
      "metadata": {
        "id": "qVRjwRXDlYv3",
        "colab_type": "text"
      },
      "source": [
        "1) AdaBound shows an improved accuracy of the model. 89% accuracy and MSE=0.38 (hYPER: 15epochs, 100 hidden dim lr: 0.0001) vs. Adam 88% MSE=0.39 (hYPER: 35epochs, 100 hidden dim lr: 0.001)"
      ]
    },
    {
      "cell_type": "markdown",
      "metadata": {
        "id": "3pZJefPEJZqF",
        "colab_type": "text"
      },
      "source": [
        "###Plot MSE Results"
      ]
    },
    {
      "cell_type": "code",
      "metadata": {
        "id": "c3DMkPpFxlm7",
        "colab_type": "code",
        "outputId": "2f29e214-514d-4f59-e969-519fe6187ea6",
        "colab": {
          "base_uri": "https://localhost:8080/",
          "height": 279
        }
      },
      "source": [
        "import matplotlib.pyplot as plt\n",
        "\n",
        "# Plot training and validation loss\n",
        "epoch = np.arange(len(training_loss))\n",
        "plt.figure()\n",
        "plt.plot(epoch, training_loss, 'r', label='Training loss',)\n",
        "plt.plot(epoch, validation_loss, 'b', label='Validation loss')\n",
        "plt.legend()\n",
        "plt.xlabel('Epoch'), plt.ylabel('NLL')\n",
        "plt.show()\n",
        "\n"
      ],
      "execution_count": 12,
      "outputs": [
        {
          "output_type": "display_data",
          "data": {
            "image/png": "[encoded data removed]",
            "text/plain": [
              "<Figure size 432x288 with 1 Axes>"
            ]
          },
          "metadata": {
            "tags": []
          }
        }
      ]
    },
    {
      "cell_type": "code",
      "metadata": {
        "id": "55Zj1v1QesTW",
        "colab_type": "code",
        "outputId": "b8c6d356-8a36-47fe-c9c9-705221d64435",
        "colab": {
          "base_uri": "https://localhost:8080/",
          "height": 279
        }
      },
      "source": [
        "import matplotlib.pyplot as plt\n",
        "\n",
        "plot_tl=training_loss[1:]\n",
        "plot_vl=validation_loss[1:]\n",
        "# Plot training and validation loss\n",
        "epoch = np.arange(len(plot_tl))\n",
        "plt.figure()\n",
        "plt.plot(epoch, plot_tl, 'r', label='Training loss',)\n",
        "plt.plot(epoch, plot_vl, 'b', label='Validation loss')\n",
        "plt.legend()\n",
        "plt.xlabel('Epoch'), plt.ylabel('NLL')\n",
        "plt.show()"
      ],
      "execution_count": 13,
      "outputs": [
        {
          "output_type": "display_data",
          "data": {
            "image/png": "[encoded data removed]",
            "text/plain": [
              "<Figure size 432x288 with 1 Axes>"
            ]
          },
          "metadata": {
            "tags": []
          }
        }
      ]
    },
    {
      "cell_type": "markdown",
      "metadata": {
        "id": "D_WxBOTyqcat",
        "colab_type": "text"
      },
      "source": [
        "#Testing & Classification Performance Results\n",
        "\n",
        "We run through the whole test-set to statistically evaluate the results from the predictions of the final risk. Additionally we test the model on classifying the high and low risks as explained in the paper. "
      ]
    },
    {
      "cell_type": "code",
      "metadata": {
        "id": "n2vdfnWh0Qqi",
        "colab_type": "code",
        "outputId": "3df1ab37-c25d-48e0-8c3f-f18874354c99",
        "colab": {
          "base_uri": "https://localhost:8080/",
          "height": 485
        }
      },
      "source": [
        "tar=[]\n",
        "pre=[]\n",
        "esa=[]\n",
        "\n",
        "\n",
        "for inputs, targets in test_set:\n",
        "\n",
        "  # Convert input to tensor\n",
        "  esain=inputs\n",
        "  inputs = torch.FloatTensor(inputs)\n",
        "  length=len(inputs)\n",
        "  dif=max_length-length\n",
        "  inputs=F.pad(inputs, pad=(0,dif),mode='constant', value=0)\n",
        "  inputs=inputs.reshape(1,17,1)\n",
        "\n",
        "  # Convert target to tensor\n",
        "  targets = torch.Tensor(targets)\n",
        "\n",
        "  # Forward pass\n",
        "  outputs = net.forward(inputs, length)\n",
        "\n",
        "  #Classify and calculate accuracy\n",
        "  esa.append(esain[-1]>=-6)\n",
        "  pre.append(outputs.item()>=-6)\n",
        "  tar.append(targets.item()>=-6)\n",
        "\n",
        "print('\\nInput Risk Sequence:')\n",
        "print(inputs)\n",
        "\n",
        "print('\\nTarget Risk:')\n",
        "print(targets)\n",
        "print('Target Risk in Percentage: ' + str(10**(targets.item()))+ ' %')\n",
        "\n",
        "print('\\nPredicted Final Risk:')\n",
        "print(outputs)\n",
        "print('Predicted Risk in Percentage: ' + str(10**(outputs.item()))+ ' %')\n",
        "\n"
      ],
      "execution_count": 14,
      "outputs": [
        {
          "output_type": "stream",
          "text": [
            "\n",
            "Input Risk Sequence:\n",
            "tensor([[[-5.1477],\n",
            "         [-5.1241],\n",
            "         [-5.1623],\n",
            "         [-5.1210],\n",
            "         [-5.1250],\n",
            "         [-5.1181],\n",
            "         [-5.1280],\n",
            "         [ 0.0000],\n",
            "         [ 0.0000],\n",
            "         [ 0.0000],\n",
            "         [ 0.0000],\n",
            "         [ 0.0000],\n",
            "         [ 0.0000],\n",
            "         [ 0.0000],\n",
            "         [ 0.0000],\n",
            "         [ 0.0000],\n",
            "         [ 0.0000]]])\n",
            "\n",
            "Target Risk:\n",
            "tensor([-5.1522])\n",
            "Target Risk in Percentage: 7.04399969203991e-06 %\n",
            "\n",
            "Predicted Final Risk:\n",
            "tensor([[-5.2815]], grad_fn=<AddmmBackward>)\n",
            "Predicted Risk in Percentage: 5.2299009240144725e-06 %\n"
          ],
          "name": "stdout"
        }
      ]
    },
    {
      "cell_type": "markdown",
      "metadata": {
        "id": "jzpVe1-gq0ME",
        "colab_type": "text"
      },
      "source": [
        "#Confusion matrix\n",
        "Create a confusion matrix for the low and high classification of final risks."
      ]
    },
    {
      "cell_type": "markdown",
      "metadata": {
        "id": "3deTKkHEJ8w4",
        "colab_type": "text"
      },
      "source": [
        "###Confusion Matrix Stacked LSTM"
      ]
    },
    {
      "cell_type": "code",
      "metadata": {
        "id": "JMjcxz_sk4eT",
        "colab_type": "code",
        "outputId": "4c8fa323-58cd-4591-9db0-5655c33fbf14",
        "colab": {
          "base_uri": "https://localhost:8080/",
          "height": 51
        }
      },
      "source": [
        "from sklearn.metrics import confusion_matrix\n",
        "\n",
        "confusion_matrix(tar, pre)"
      ],
      "execution_count": 15,
      "outputs": [
        {
          "output_type": "execute_result",
          "data": {
            "text/plain": [
              "array([[263,  16],\n",
              "       [ 28,  90]])"
            ]
          },
          "metadata": {
            "tags": []
          },
          "execution_count": 15
        }
      ]
    },
    {
      "cell_type": "markdown",
      "metadata": {
        "id": "mSQtIrdpKBIX",
        "colab_type": "text"
      },
      "source": [
        "###Confusion Matrix ESA Model\n"
      ]
    },
    {
      "cell_type": "code",
      "metadata": {
        "id": "6sf8tLGCKI4N",
        "colab_type": "code",
        "outputId": "afc35ae9-ef92-462c-8ba7-7f46fb95ed4f",
        "colab": {
          "base_uri": "https://localhost:8080/",
          "height": 51
        }
      },
      "source": [
        "confusion_matrix(tar,esa)"
      ],
      "execution_count": 16,
      "outputs": [
        {
          "output_type": "execute_result",
          "data": {
            "text/plain": [
              "array([[228,  51],\n",
              "       [ 11, 107]])"
            ]
          },
          "metadata": {
            "tags": []
          },
          "execution_count": 16
        }
      ]
    },
    {
      "cell_type": "code",
      "metadata": {
        "id": "qEdrM58XAgwG",
        "colab_type": "code",
        "colab": {}
      },
      "source": [
        "def plot_confusion_matrix(y_true, y_pred, classes,\n",
        "                          normalize=False,\n",
        "                          title=None,\n",
        "                          cmap=plt.cm.Blues):\n",
        "    \"\"\"\n",
        "    This function prints and plots the confusion matrix.\n",
        "    Normalization can be applied by setting `normalize=True`.\n",
        "    \"\"\"\n",
        "    if not title:\n",
        "        if normalize:\n",
        "            title = 'Normalized confusion matrix'\n",
        "        else:\n",
        "            title = 'Confusion matrix, without normalization'\n",
        "\n",
        "    # Compute confusion matrix\n",
        "    cm = confusion_matrix(y_true, y_pred)\n",
        "    # Only use the labels that appear in the data\n",
        "    classes = classes\n",
        "    if normalize:\n",
        "        cm = cm.astype('float') / cm.sum(axis=1)[:, np.newaxis]\n",
        "        print(\"Normalized confusion matrix\")\n",
        "    else:\n",
        "        print('Confusion matrix, without normalization')\n",
        "\n",
        "    print(cm)\n",
        "\n",
        "    fig, ax = plt.subplots()\n",
        "    im = ax.imshow(cm, interpolation='nearest', cmap=cmap)\n",
        "    ax.figure.colorbar(im, ax=ax)\n",
        "    # We want to show all ticks...\n",
        "    ax.set(xticks=np.arange(cm.shape[1]),\n",
        "           yticks=np.arange(cm.shape[0]),\n",
        "           # ... and label them with the respective list entries\n",
        "           xticklabels=classes, yticklabels=classes,\n",
        "           title=title,\n",
        "           ylabel='True label',\n",
        "           xlabel='Predicted label')\n",
        "\n",
        "    # Rotate the tick labels and set their alignment.\n",
        "    plt.setp(ax.get_xticklabels(), rotation=45, ha=\"right\",\n",
        "             rotation_mode=\"anchor\")\n",
        "\n",
        "    # Loop over data dimensions and create text annotations.\n",
        "    fmt = '.2f' if normalize else 'd'\n",
        "    thresh = cm.max() / 2.\n",
        "    for i in range(cm.shape[0]):\n",
        "        for j in range(cm.shape[1]):\n",
        "            ax.text(j, i, format(cm[i, j], fmt),\n",
        "                    ha=\"center\", va=\"center\",\n",
        "                    color=\"white\" if cm[i, j] > thresh else \"black\")\n",
        "    fig.tight_layout()\n",
        "    return ax"
      ],
      "execution_count": 0,
      "outputs": []
    },
    {
      "cell_type": "markdown",
      "metadata": {
        "id": "Q9-aJzl5XmQu",
        "colab_type": "text"
      },
      "source": [
        "###Standardized Confusion Matrix (ESA model)"
      ]
    },
    {
      "cell_type": "code",
      "metadata": {
        "id": "v_qJRSfoBOQe",
        "colab_type": "code",
        "outputId": "f59b1f37-2192-4b8d-df0f-10aaf9216ff7",
        "colab": {
          "base_uri": "https://localhost:8080/",
          "height": 349
        }
      },
      "source": [
        "plot_confusion_matrix(tar, esa, classes=['Low Risk', 'High Risk'], normalize=False,cmap=plt.cm.Blues)\n",
        "\n",
        "plt.show()"
      ],
      "execution_count": 18,
      "outputs": [
        {
          "output_type": "stream",
          "text": [
            "Confusion matrix, without normalization\n",
            "[[228  51]\n",
            " [ 11 107]]\n"
          ],
          "name": "stdout"
        },
        {
          "output_type": "display_data",
          "data": {
            "image/png": "[encoded data removed]",
            "text/plain": [
              "<Figure size 432x288 with 2 Axes>"
            ]
          },
          "metadata": {
            "tags": []
          }
        }
      ]
    },
    {
      "cell_type": "markdown",
      "metadata": {
        "id": "nmbx-UIpXyrK",
        "colab_type": "text"
      },
      "source": [
        "###Standardized Confusion Matrix (Stacked LSTM model)"
      ]
    },
    {
      "cell_type": "code",
      "metadata": {
        "id": "tTHgU1sLX94D",
        "colab_type": "code",
        "outputId": "acbf75c5-48b2-47aa-a330-07136f6e3715",
        "colab": {
          "base_uri": "https://localhost:8080/",
          "height": 349
        }
      },
      "source": [
        "plot_confusion_matrix(tar, pre, classes=['Low Risk', 'High Risk'], normalize=False,cmap=plt.cm.Blues)\n",
        "\n",
        "plt.show()"
      ],
      "execution_count": 19,
      "outputs": [
        {
          "output_type": "stream",
          "text": [
            "Confusion matrix, without normalization\n",
            "[[263  16]\n",
            " [ 28  90]]\n"
          ],
          "name": "stdout"
        },
        {
          "output_type": "display_data",
          "data": {
            "image/png": "[encoded data removed]",
            "text/plain": [
              "<Figure size 432x288 with 2 Axes>"
            ]
          },
          "metadata": {
            "tags": []
          }
        }
      ]
    },
    {
      "cell_type": "markdown",
      "metadata": {
        "id": "1FMFI7Vl3Qse",
        "colab_type": "text"
      },
      "source": [
        "#Masking w/ torch.nn.utils.rnn.pack_padded_sequence"
      ]
    },
    {
      "cell_type": "markdown",
      "metadata": {
        "id": "64XR1CymL0Zd",
        "colab_type": "text"
      },
      "source": [
        "###Summary of Shape Transformations in the network"
      ]
    },
    {
      "cell_type": "code",
      "metadata": {
        "id": "OtMC20S0K0_i",
        "colab_type": "code",
        "colab": {}
      },
      "source": [
        "# (batch_size X max_seq_len X embedding_dim) --> Sort by seqlen ---> (batch_size X max_seq_len X embedding_dim)\n",
        "# (batch_size X max_seq_len X embedding_dim) --->      Pack     ---> (batch_sum_seq_len X embedding_dim)\n",
        "# (batch_sum_seq_len X embedding_dim)        --->      LSTM     ---> (batch_sum_seq_len X hidden_dim)\n",
        "# (batch_sum_seq_len X hidden_dim)           --->    UnPack     ---> (batch_size X max_seq_len X hidden_dim)"
      ],
      "execution_count": 0,
      "outputs": []
    },
    {
      "cell_type": "markdown",
      "metadata": {
        "id": "WQaKxGIeLlyl",
        "colab_type": "text"
      },
      "source": [
        "###Masking example"
      ]
    },
    {
      "cell_type": "code",
      "metadata": {
        "id": "EIjdx_7n6tfB",
        "colab_type": "code",
        "outputId": "9ff63e0e-4b46-4357-8f70-51480dcf69b8",
        "colab": {
          "base_uri": "https://localhost:8080/",
          "height": 554
        }
      },
      "source": [
        "import torch\n",
        "from torch.autograd import Variable\n",
        "\n",
        "# Get first sample in test set\n",
        "inputs, targets = test_set[7]\n",
        "\n",
        "# Convert input to tensor\n",
        "inputs = torch.FloatTensor(inputs)\n",
        "length=len(inputs)\n",
        "dif=17-length\n",
        "inputs=F.pad(inputs, pad=(0,dif),mode='constant', value=0)\n",
        "inputs=inputs.reshape(1,17,1)\n",
        "seq_in = Variable(inputs)\n",
        "seq_length = [length]\n",
        "pack = torch.nn.utils.rnn.pack_padded_sequence(seq_in, seq_length, batch_first=True)\n",
        "print (pack)\n",
        "\n",
        "unpack=torch.nn.utils.rnn.pad_packed_sequence(pack, total_length=17, batch_first=True)\n",
        "print(unpack)\n",
        "\n"
      ],
      "execution_count": 21,
      "outputs": [
        {
          "output_type": "stream",
          "text": [
            "PackedSequence(data=tensor([[-5.7261],\n",
            "        [-7.4136],\n",
            "        [-7.3979],\n",
            "        [-7.4009],\n",
            "        [-7.4105],\n",
            "        [-7.4211],\n",
            "        [-7.4327],\n",
            "        [-5.6306],\n",
            "        [-5.5161],\n",
            "        [-5.5874],\n",
            "        [-5.7421],\n",
            "        [-5.6809],\n",
            "        [-5.8111],\n",
            "        [-5.9606]]), batch_sizes=tensor([1, 1, 1, 1, 1, 1, 1, 1, 1, 1, 1, 1, 1, 1]), sorted_indices=None, unsorted_indices=None)\n",
            "(tensor([[[-5.7261],\n",
            "         [-7.4136],\n",
            "         [-7.3979],\n",
            "         [-7.4009],\n",
            "         [-7.4105],\n",
            "         [-7.4211],\n",
            "         [-7.4327],\n",
            "         [-5.6306],\n",
            "         [-5.5161],\n",
            "         [-5.5874],\n",
            "         [-5.7421],\n",
            "         [-5.6809],\n",
            "         [-5.8111],\n",
            "         [-5.9606],\n",
            "         [ 0.0000],\n",
            "         [ 0.0000],\n",
            "         [ 0.0000]]]), tensor([14]))\n"
          ],
          "name": "stdout"
        }
      ]
    }
  ]
}